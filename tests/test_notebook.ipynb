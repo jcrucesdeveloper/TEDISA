{
 "cells": [
  {
   "cell_type": "code",
   "execution_count": null,
   "metadata": {
    "vscode": {
     "languageId": "plaintext"
    }
   },
   "outputs": [],
   "source": [
    "import torch\n",
    "\n",
    "# Create matrices for linear algebra operations\n",
    "A = torch.tensor([[1., 2.], [3., 4.]])\n",
    "B = torch.tensor([[5., 6.], [7., 8.]])\n",
    "\n",
    "# Basic linear algebra operations\n",
    "print(\"Matrix A:\", A)\n",
    "print(\"Matrix B:\", B)\n",
    "\n",
    "# Matrix decomposition\n",
    "print(\"\\nLU decomposition:\")\n",
    "lu, pivots = torch.lu(A)\n",
    "print(\"LU:\", lu)\n",
    "print(\"Pivots:\", pivots)\n",
    "\n",
    "# QR decomposition\n",
    "print(\"\\nQR decomposition:\")\n",
    "Q, R = torch.qr(A)\n",
    "print(\"Q:\", Q)\n",
    "print(\"R:\", R)\n",
    "\n",
    "# SVD decomposition\n",
    "print(\"\\nSVD decomposition:\")\n",
    "U, S, V = torch.svd(A)\n",
    "print(\"U:\", U)\n",
    "print(\"S:\", S)\n",
    "print(\"V:\", V)\n",
    "\n",
    "# Matrix properties\n",
    "print(\"\\nMatrix properties:\")\n",
    "print(\"Determinant:\", torch.det(A))\n",
    "print(\"Matrix rank:\", torch.matrix_rank(A))\n",
    "print(\"Eigenvalues:\", torch.eigvals(A))\n",
    "\n",
    "# Linear system solving\n",
    "b = torch.tensor([1., 2.])\n",
    "print(\"\\nSolving Ax = b:\")\n",
    "x = torch.linalg.solve(A, b)\n",
    "print(\"Solution x:\", x)\n",
    "\n",
    "# Create tensors\n",
    "tensor = torch.tensor([1.0, 2.0, 3.0, 4.0, 5.0])\n",
    "print(\"\\nOriginal tensor:\", tensor)\n",
    "\n",
    "# Statistical operations\n",
    "print(\"\\nVariance:\", tensor.var())\n",
    "print(\"Standard deviation:\", tensor.std())\n",
    "print(\"Median:\", tensor.median())\n",
    "print(\"Mode:\", torch.mode(tensor))\n",
    "print(\"Quantile (0.25):\", torch.quantile(tensor, 0.25))\n",
    "\n",
    "# Reduction operations\n",
    "tensor_2d = torch.tensor([[1, 2, 3], [4, 5, 6]])\n",
    "print(\"\\n2D tensor:\", tensor_2d)\n",
    "print(\"Max along dim 0:\", tensor_2d.max(dim=0))\n",
    "print(\"Min along dim 1:\", tensor_2d.min(dim=1))\n",
    "print(\"Argmax:\", tensor_2d.argmax())\n",
    "print(\"Argmin:\", tensor_2d.argmin())\n",
    "\n",
    "# Advanced statistics\n",
    "print(\"\\nCumulative sum:\", tensor.cumsum(0))\n",
    "print(\"Cumulative product:\", tensor.cumprod(0))\n",
    "print(\"Unique values:\", torch.unique(tensor))\n",
    "print(\"Histogram:\", torch.histc(tensor, bins=3)) "
   ]
  }
 ],
 "metadata": {
  "language_info": {
   "name": "python"
  }
 },
 "nbformat": 4,
 "nbformat_minor": 2
}
